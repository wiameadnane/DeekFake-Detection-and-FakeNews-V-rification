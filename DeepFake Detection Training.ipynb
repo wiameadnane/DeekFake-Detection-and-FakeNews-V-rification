{
 "cells": [
  {
   "cell_type": "code",
   "execution_count": 204,
   "id": "0c7fe5b6",
   "metadata": {},
   "outputs": [],
   "source": [
    "import cv2\n",
    "import os\n",
    "import numpy as np\n",
    "from mtcnn.mtcnn import MTCNN\n",
    "from tensorflow.keras.applications import ResNet50\n",
    "from tensorflow.keras.models import Model\n",
    "from tensorflow.keras.applications.resnet50 import preprocess_input\n",
    "from tensorflow.keras.preprocessing.sequence import pad_sequences\n",
    "from sklearn.model_selection import train_test_split\n",
    "from tensorflow.keras.models import Sequential\n",
    "from tensorflow.keras.layers import LSTM, Dense, Dropout, Masking\n",
    "from sklearn.metrics import confusion_matrix\n",
    "import seaborn as sns\n",
    "import matplotlib.pyplot as plt"
   ]
  },
  {
   "cell_type": "markdown",
   "id": "fad9ced6",
   "metadata": {},
   "source": [
    "# Frame Extraction from videos"
   ]
  },
  {
   "cell_type": "raw",
   "id": "79e29ba9",
   "metadata": {},
   "source": [
    "def extract_frames_from_video(video_path, output_folder, frame_interval=30):\n",
    "    # Open the video file\n",
    "    video = cv2.VideoCapture(video_path)\n",
    "\n",
    "    # Get the total frame count and frame rate\n",
    "    total_frames = int(video.get(cv2.CAP_PROP_FRAME_COUNT))\n",
    "    fps = video.get(cv2.CAP_PROP_FPS)\n",
    "    \n",
    "    print(f\"Processing {video_path} - Total frames: {total_frames}, FPS: {fps}\")\n",
    "\n",
    "    # Create the output folder if it doesn't exist\n",
    "    video_name = os.path.basename(video_path).split('.')[0]\n",
    "    video_output_folder = os.path.join(output_folder, video_name)\n",
    "    if not os.path.exists(video_output_folder):\n",
    "        os.makedirs(video_output_folder)\n",
    "\n",
    "    # Extract frames\n",
    "    count = 0\n",
    "    saved_frames = 0\n",
    "    while True:\n",
    "        ret, frame = video.read()\n",
    "        if not ret:\n",
    "            break\n",
    "\n",
    "        # Save the frame every frame_interval frames\n",
    "        if count % frame_interval == 0:\n",
    "            frame_name = os.path.join(video_output_folder, f\"frame_{saved_frames:04d}.jpg\")\n",
    "            cv2.imwrite(frame_name, frame)\n",
    "            saved_frames += 1\n",
    "\n",
    "        count += 1\n",
    "\n",
    "    # Release the video capture object\n",
    "    video.release()\n",
    "\n",
    "    print(f\"Frames saved for {video_path}: {saved_frames}\")\n",
    "    \n",
    "# Function to process all videos in a directory\n",
    "def extract_frames_from_directory(input_folder,output_folder,frame_interval=30):\n",
    "    # List all video files in the input directory\n",
    "    video_files = [f for f in os.listdir(input_folder) if f.endswith(('.mp4', '.avi', '.mov'))]\n",
    "\n",
    "    # Process each video file\n",
    "    for video_file in video_files:\n",
    "        video_path = os.path.join(input_folder, video_file)\n",
    "        extract_frames_from_video(video_path, output_folder, frame_interval)\n",
    "        \n",
    "# Example usage\n",
    "input_folder = r\"C:\\Users\\wiame\\Documents\\RECONNAISSANCE DES FORMES\\PROJET\\Human Activity Recognition - Video Dataset\\Standing Still\" # Folder containing your videos\n",
    "output_folder = r\"C:\\Users\\wiame\\Documents\\RECONNAISSANCE DES FORMES\\PROJET\\REAL\"   # Folder to store extracted frames\n",
    "frame_interval = 15  # Extract one frame every 30 frames (adjust as needed)\n",
    "\n",
    "extract_frames_from_directory(input_folder, output_folder, frame_interval)\n"
   ]
  },
  {
   "cell_type": "markdown",
   "id": "2382792c",
   "metadata": {},
   "source": [
    "# RESIZE AND SCALE"
   ]
  },
  {
   "cell_type": "raw",
   "id": "1febaefd",
   "metadata": {},
   "source": [
    "def resize_replace_and_scale_frames(folder_path, target_size=(224, 224), scale=True):\n",
    "    \"\"\"\n",
    "    Function to resize all frames in the folder, overwrite them with resized frames, and apply scaling.\n",
    "    \n",
    "    Args:\n",
    "    - folder_path (str): Path to the folder containing the original frames.\n",
    "    - target_size (tuple): The target size for resizing frames (default is 224x224).\n",
    "    - scale (bool): Whether to scale the pixel values to [0, 1] (default is True).\n",
    "    \n",
    "    Returns:\n",
    "    - None\n",
    "    \"\"\"\n",
    "    # List all files in the folder\n",
    "    frame_files = [f for f in os.listdir(folder_path) if f.endswith(('.jpg', '.png', '.jpeg'))]\n",
    "    \n",
    "    # Loop over each frame file\n",
    "    for frame_file in frame_files:\n",
    "        # Construct full file path\n",
    "        frame_path = os.path.join(folder_path, frame_file)\n",
    "        \n",
    "        # Read the frame\n",
    "        frame = cv2.imread(frame_path)\n",
    "        \n",
    "        if frame is not None:\n",
    "            # Resize the frame\n",
    "            resized_frame = cv2.resize(frame, target_size)\n",
    "            \n",
    "            # Apply scaling (normalize pixel values to [0, 1]) if scale=True\n",
    "            if scale:\n",
    "                resized_frame = resized_frame.astype(np.float32) / 255.0  # Scaling to [0, 1]\n",
    "            \n",
    "            # If scaled, convert the values back to uint8 to save the image\n",
    "            if scale:\n",
    "                resized_frame = (resized_frame * 255).astype(np.uint8)\n",
    "            \n",
    "            # Save the resized (and scaled) frame back to the original file path\n",
    "            cv2.imwrite(frame_path, resized_frame)\n",
    "        else:\n",
    "            print(f\"Error reading the frame: {frame_file}\")\n",
    "    \n",
    "    print(\"Resizing, scaling, and replacement complete.\")\n",
    "    \n",
    "folder_path = r\"C:\\Users\\wiame\\Documents\\RECONNAISSANCE DES FORMES\\PROJET\\1 minute funny videos\"  # Path to the folder containing original frames\n",
    "\n",
    "# Call the resize, replace, and scale function\n",
    "resize_replace_and_scale_frames(folder_path, target_size=(224, 224), scale=True)"
   ]
  },
  {
   "cell_type": "markdown",
   "id": "ddd109c1",
   "metadata": {},
   "source": [
    "# Faces Extraction with MTCNN"
   ]
  },
  {
   "cell_type": "raw",
   "id": "7f2d2b30-307b-4f3f-8f3c-3d6dbc3fcde6",
   "metadata": {},
   "source": [
    "import cv2\n",
    "import os\n",
    "from mtcnn import MTCNN\n",
    "\n",
    "main_folder = r\"C:\\Users\\wiame\\Documents\\RECONNAISSANCE DES FORMES\\PROJET\\indians_real\"\n",
    "output_folder = r\"C:\\Users\\wiame\\Documents\\RECONNAISSANCE DES FORMES\\PROJET\\new_FACES\\real_indians\"\n",
    "\n",
    "detector = MTCNN()\n",
    "\n",
    "os.makedirs(output_folder, exist_ok=True)\n",
    "\n",
    "for sequence_name in os.listdir(main_folder):\n",
    "    sequence_path = os.path.join(main_folder, sequence_name)\n",
    "    \n",
    "    if os.path.isdir(sequence_path):  # Check if it's a folder\n",
    "        sequence_output_path = os.path.join(output_folder, sequence_name)\n",
    "        os.makedirs(sequence_output_path, exist_ok=True)\n",
    "\n",
    "        for frame_name in os.listdir(sequence_path):\n",
    "            frame_path = os.path.join(sequence_path, frame_name)\n",
    "            if frame_name.lower().endswith(('.jpg', '.png', '.jpeg')):  # Image files\n",
    "                image = cv2.imread(frame_path)\n",
    "                image_rgb = cv2.cvtColor(image, cv2.COLOR_BGR2RGB)\n",
    "\n",
    "                # Detect faces\n",
    "                results = detector.detect_faces(image_rgb)\n",
    "\n",
    "                for i, result in enumerate(results):\n",
    "                    x, y, width, height = result['box']\n",
    "                    face = image[y:y+height, x:x+width]\n",
    "                    \n",
    "                    # Ensure dimensions are valid\n",
    "                    if face.size > 0:\n",
    "                        # Resize the face to 224x224\n",
    "                        face_resized = cv2.resize(face, (224, 224))\n",
    "                        \n",
    "                        # Save the resized face\n",
    "                        face_path = os.path.join(sequence_output_path, f\"{os.path.splitext(frame_name)[0]}_face_{i}.jpg\")\n",
    "                        cv2.imwrite(face_path, face_resized)\n",
    "\n",
    "print(\"Processing complete. Faces saved to:\", output_folder)\n"
   ]
  },
  {
   "cell_type": "markdown",
   "id": "793a8c9d-845b-4499-ac9a-35954c96bd25",
   "metadata": {},
   "source": [
    "## Delete Noise in faces"
   ]
  },
  {
   "cell_type": "raw",
   "id": "f3aa70eb-6d94-4312-9f21-ac55e53b9d64",
   "metadata": {},
   "source": [
    "main_folder = r\"C:\\Users\\wiame\\Documents\\RECONNAISSANCE DES FORMES\\PROJET\\new_FACES\\real_indians\"\n",
    "\n",
    "# Walk through all subfolders in the main folder\n",
    "for root, _, files in os.walk(main_folder):\n",
    "    for filename in files:\n",
    "        # Check if the file does not end with \"_0.jpg\"\n",
    "        if not filename.endswith(\"_0.jpg\"):\n",
    "            file_path = os.path.join(root, filename)\n",
    "            os.remove(file_path)  # Delete the file\n",
    "            print(f\"Deleted: {file_path}\")  # Log deleted files\n",
    "        else:\n",
    "            print(f\"Keeping: {filename}\")  # Log kept files\n",
    "\n",
    "print(\"Cleaning complete. Unwanted files have been deleted.\")"
   ]
  },
  {
   "cell_type": "markdown",
   "id": "54a11ed3-e543-4cce-b2b8-25c877ff7b7c",
   "metadata": {},
   "source": [
    "## Select half the folders"
   ]
  },
  {
   "cell_type": "raw",
   "id": "ee252ef0-fdcb-49e7-847c-6e9d067839c2",
   "metadata": {},
   "source": [
    "import os\n",
    "import random\n",
    "import shutil\n",
    "\n",
    "def select_random_videos(input_folder, output_folder, fraction=0.5):\n",
    "    # Ensure the output folder exists\n",
    "    os.makedirs(output_folder, exist_ok=True)\n",
    "\n",
    "    # List all subfolders in the input folder\n",
    "    subfolders = os.listdir(input_folder)\n",
    "\n",
    "    # Group subfolders by their prefix (e.g., '1_', '2_', ..., '28_')\n",
    "    groups = {}\n",
    "    for subfolder in subfolders:\n",
    "        prefix = subfolder.split('_')[0]  # Get the prefix (e.g., '1', '2', ..., '28')\n",
    "        if prefix not in groups:\n",
    "            groups[prefix] = []\n",
    "        groups[prefix].append(subfolder)\n",
    "\n",
    "    # Process each group (e.g., '1_', '2_', ...)\n",
    "    for prefix, video_folders in groups.items():\n",
    "        # Calculate how many folders to select\n",
    "        num_to_select = int(len(video_folders) * fraction)\n",
    "        \n",
    "        # Randomly select subfolders\n",
    "        selected_folders = random.sample(video_folders, num_to_select)\n",
    "        \n",
    "        # Copy the selected folders to the output folder\n",
    "        for folder in selected_folders:\n",
    "            # Path for the current subfolder in input\n",
    "            subfolder_path = os.path.join(input_folder, folder)\n",
    "            \n",
    "            # Create the corresponding output subfolder path\n",
    "            output_subfolder_path = os.path.join(output_folder, folder)\n",
    "            os.makedirs(output_subfolder_path, exist_ok=True)\n",
    "            \n",
    "            # Copy all files from the subfolder to the output folder\n",
    "            for file_name in os.listdir(subfolder_path):\n",
    "                file_path = os.path.join(subfolder_path, file_name)\n",
    "                if os.path.isfile(file_path):\n",
    "                    shutil.copy(file_path, output_subfolder_path)\n",
    "\n",
    "            print(f\"Copied {folder} to {output_folder}\")\n",
    "\n",
    "    print(\"Processing complete.\")\n",
    "\n",
    "# Define your input and output folders\n",
    "input_folder = r\"C:\\Users\\wiame\\Documents\\RECONNAISSANCE DES FORMES\\PROJET\\FACES\\FAKE\"\n",
    "output_folder = r\"C:\\Users\\wiame\\Documents\\RECONNAISSANCE DES FORMES\\PROJET\\new_FACES\\FAKE\"\n",
    "\n",
    "# Call the function to select random videos\n",
    "select_random_videos(input_folder, output_folder)"
   ]
  },
  {
   "cell_type": "markdown",
   "id": "e4edf84f-f43b-46e3-921c-438444efb6c2",
   "metadata": {},
   "source": [
    "## START RESNET "
   ]
  },
  {
   "cell_type": "code",
   "execution_count": 15,
   "id": "4c7d60aa-a3ba-4731-b9d1-1c07add3369e",
   "metadata": {},
   "outputs": [],
   "source": [
    "base_model = ResNet50(weights='imagenet', include_top=False, pooling='avg')\n",
    "\n",
    "# Create a new model for feature extraction (we use the output of the ResNet50 base model)\n",
    "feature_extractor = Model(inputs=base_model.input, outputs=base_model.output)"
   ]
  },
  {
   "cell_type": "code",
   "execution_count": 27,
   "id": "64c5db93-bdce-48bc-8764-634a52a19d94",
   "metadata": {},
   "outputs": [],
   "source": [
    "def preprocess_image(image_path):\n",
    "    \"\"\"\n",
    "    Preprocess a single image frame for ResNet50.\n",
    "    \"\"\"\n",
    "    # Read and resize the image\n",
    "    image = cv2.imread(image_path)\n",
    "\n",
    "    # Convert BGR to RGB (ResNet expects RGB images)\n",
    "    image_rgb = cv2.cvtColor(image, cv2.COLOR_BGR2RGB)\n",
    "\n",
    "    # Normalize and preprocess the image (same normalization as ImageNet)\n",
    "    image_preprocessed = preprocess_input(image_rgb)  # Normalization for ResNet\n",
    "\n",
    "    # Expand dimensions to match model input shape (batch size 1)\n",
    "    image_batch = np.expand_dims(image_preprocessed, axis=0)\n",
    "\n",
    "    return image_batch"
   ]
  },
  {
   "cell_type": "code",
   "execution_count": 29,
   "id": "338ffd75-7acd-4cb0-80a4-bf78b8124163",
   "metadata": {},
   "outputs": [],
   "source": [
    "def extract_features_for_sequence(sequence_path, model):\n",
    "    \"\"\"\n",
    "    Extract features for all frames in a video sequence folder.\n",
    "    \"\"\"\n",
    "    features = []\n",
    "    for frame_name in sorted(os.listdir(sequence_path)):  # Ensure frames are ordered\n",
    "        frame_path = os.path.join(sequence_path, frame_name)\n",
    "        if frame_name.lower().endswith(('.jpg', '.png', '.jpeg')):\n",
    "            # Preprocess the image for ResNet\n",
    "            image_batch = preprocess_image(frame_path)\n",
    "            \n",
    "            # Extract feature vector using ResNet50\n",
    "            feature_vector = model.predict(image_batch, verbose=0)\n",
    "            \n",
    "            # Flatten the feature vector to 1D\n",
    "            features.append(feature_vector.flatten())\n",
    "\n",
    "    return np.array(features)  # Return as NumPy array"
   ]
  },
  {
   "cell_type": "code",
   "execution_count": 31,
   "id": "42e55da2-d1c0-456a-a482-94d33e4683b5",
   "metadata": {},
   "outputs": [
    {
     "name": "stdout",
     "output_type": "stream",
     "text": [
      "Extracted features for 1906 sequences.\n",
      "Example sequence shape: (21, 2048)\n",
      "Labels: [1, 1, 1, 1, 1]\n"
     ]
    }
   ],
   "source": [
    "def label_and_extract_features(base_folder, model):\n",
    "    \"\"\"\n",
    "    Extract features and labels for all video sequences in the dataset.\n",
    "    \"\"\"\n",
    "    data = []\n",
    "    labels = []\n",
    "    \n",
    "    for label_name, label_value in {'real': 1, 'fake': 0}.items():\n",
    "        folder_path = os.path.join(base_folder, label_name)\n",
    "        if os.path.isdir(folder_path):\n",
    "            for sequence_name in os.listdir(folder_path):\n",
    "                sequence_path = os.path.join(folder_path, sequence_name)\n",
    "                if os.path.isdir(sequence_path):  # Ensure it's a folder\n",
    "                    # Extract features for this video sequence\n",
    "                    features = extract_features_for_sequence(sequence_path, model)\n",
    "                    data.append(features)  # Store the feature vectors\n",
    "                    labels.append(label_value)  # Store the label for this sequence\n",
    "\n",
    "    return data, labels\n",
    "\n",
    "# Example: Label and extract features for the entire dataset\n",
    "faces_train_folder = r\"C:\\Users\\wiame\\Documents\\RECONNAISSANCE DES FORMES\\PROJET\\new_FACES\"\n",
    "data, labels = label_and_extract_features(faces_train_folder, feature_extractor)\n",
    "\n",
    "# Example: Check shapes\n",
    "print(f\"Extracted features for {len(data)} sequences.\")\n",
    "print(f\"Example sequence shape: {data[0].shape}\")\n",
    "print(f\"Labels: {labels[:5]}\")"
   ]
  },
  {
   "cell_type": "code",
   "execution_count": 35,
   "id": "3615141f-069f-401f-b012-7a3aa93b55ba",
   "metadata": {},
   "outputs": [
    {
     "name": "stdout",
     "output_type": "stream",
     "text": [
      "1906\n"
     ]
    }
   ],
   "source": [
    "print(len(labels))"
   ]
  },
  {
   "cell_type": "code",
   "execution_count": 208,
   "id": "4f2d9028-60bb-4664-aabf-01187b139566",
   "metadata": {},
   "outputs": [
    {
     "name": "stdout",
     "output_type": "stream",
     "text": [
      "(61, 2048)\n"
     ]
    }
   ],
   "source": [
    "print(data[54].shape)"
   ]
  },
  {
   "cell_type": "code",
   "execution_count": 57,
   "id": "673c5eba-7075-4d61-b8b4-6f187f4a3cf1",
   "metadata": {},
   "outputs": [
    {
     "name": "stdout",
     "output_type": "stream",
     "text": [
      "Switched Labels: [0, 0, 0, 0, 0, 0, 0, 0, 0, 0]\n"
     ]
    }
   ],
   "source": [
    "# Invert the labels\n",
    "labels_ = labels\n",
    "labels = [1 - label for label in labels]\n",
    "\n",
    "# Check the switched labels\n",
    "print(f\"Switched Labels: {labels[:10]}\")"
   ]
  },
  {
   "cell_type": "raw",
   "id": "dbf7971e-13fa-42f8-a582-02b06049302b",
   "metadata": {},
   "source": [
    "print(\"labels: \",labels)"
   ]
  },
  {
   "cell_type": "code",
   "execution_count": 45,
   "id": "867886df-07b5-4380-bc83-a8ddf4d2d5a5",
   "metadata": {},
   "outputs": [
    {
     "name": "stdout",
     "output_type": "stream",
     "text": [
      "[[0.         0.01019593 0.         ... 0.15548107 0.00454331 0.01489409]\n",
      " [0.         0.0069849  0.03151723 ... 0.6935246  0.04988791 0.04736813]\n",
      " [0.         0.04420053 0.         ... 0.6044611  0.03543784 1.1451368 ]\n",
      " ...\n",
      " [0.         0.         0.01888422 ... 0.52261317 0.14337139 0.2568845 ]\n",
      " [0.         0.         0.00144351 ... 0.6186473  0.05271327 0.07659001]\n",
      " [0.         0.20504765 0.00982271 ... 0.12995012 0.11378016 0.03949445]]\n"
     ]
    }
   ],
   "source": [
    "print(data[0])"
   ]
  },
  {
   "cell_type": "code",
   "execution_count": 109,
   "id": "09aeeabf-608c-461e-a847-f451a8b87f8a",
   "metadata": {},
   "outputs": [
    {
     "name": "stdout",
     "output_type": "stream",
     "text": [
      "4 108\n"
     ]
    }
   ],
   "source": [
    "size_frames = []\n",
    "for sequence in data:\n",
    "    size_frames.append(sequence.shape[0])\n",
    "\n",
    "print(np.min(size_frames), np.max(size_frames))"
   ]
  },
  {
   "cell_type": "code",
   "execution_count": 73,
   "id": "75ca4334-706f-4588-9700-cdc7e83fc29d",
   "metadata": {},
   "outputs": [],
   "source": [
    "arr = np.array(size_frames)"
   ]
  },
  {
   "cell_type": "code",
   "execution_count": 97,
   "id": "81ec6d13-3757-452b-b7b3-2d6e7f917dfa",
   "metadata": {},
   "outputs": [
    {
     "name": "stdout",
     "output_type": "stream",
     "text": [
      "12\n"
     ]
    }
   ],
   "source": [
    "num4 = len(arr[(arr > 0) & (arr<10)])\n",
    "print(num4)"
   ]
  },
  {
   "cell_type": "code",
   "execution_count": 119,
   "id": "8753a326-45fd-47e0-a915-bea2475f3040",
   "metadata": {},
   "outputs": [
    {
     "name": "stdout",
     "output_type": "stream",
     "text": [
      "Shape of padded data: (1906, 108, 2048)\n",
      "Shape of labels: (1906,)\n"
     ]
    }
   ],
   "source": [
    "# Padding the sequences to ensure they all have the same length\n",
    "max_length = np.max(size_frames) # Set this according to your data (e.g., max number of frames per sequence)\n",
    "data_padded = pad_sequences(data, maxlen=max_length, dtype='float32', padding='post', truncating='post')\n",
    "\n",
    "# Check shapes\n",
    "print(f\"Shape of padded data: {data_padded.shape}\")\n",
    "print(f\"Shape of labels: {labels_array.shape}\")"
   ]
  },
  {
   "cell_type": "code",
   "execution_count": 121,
   "id": "31cd9061-01dc-4c80-aa65-5ce7c55541ce",
   "metadata": {},
   "outputs": [
    {
     "name": "stdout",
     "output_type": "stream",
     "text": [
      "108 108\n"
     ]
    }
   ],
   "source": [
    "size_frames = []\n",
    "for sequence in data_padded:\n",
    "    size_frames.append(sequence.shape[0])\n",
    "\n",
    "print(np.min(size_frames), np.max(size_frames))"
   ]
  },
  {
   "cell_type": "code",
   "execution_count": 146,
   "id": "731b3f37-776d-4d98-aa1a-0723e1ee669c",
   "metadata": {},
   "outputs": [
    {
     "name": "stdout",
     "output_type": "stream",
     "text": [
      "Shape of labels: (1906,)\n"
     ]
    }
   ],
   "source": [
    "print(f\"Shape of labels: {labels_array.shape}\")"
   ]
  },
  {
   "cell_type": "code",
   "execution_count": 154,
   "id": "7cf2a2be-7639-4c58-ba5f-03e84aa93db3",
   "metadata": {},
   "outputs": [
    {
     "name": "stdout",
     "output_type": "stream",
     "text": [
      "(1906,)\n"
     ]
    }
   ],
   "source": [
    "X = np.array(data_padded)  # Assuming your data is in a NumPy array\n",
    "Y = np.array(labels)  # Assuming your labels are in a NumPy array\n",
    "print(Y.shape)\n",
    "\n",
    "# Split the data into training and testing sets (e.g., 80% for training and 20% for testing)\n",
    "X_train, X_test, y_train, y_test = train_test_split(X, Y, test_size=0.3, random_state=42)"
   ]
  },
  {
   "cell_type": "code",
   "execution_count": 156,
   "id": "9958f855-cf41-4059-8092-94479041bd7c",
   "metadata": {},
   "outputs": [],
   "source": [
    "X_test, X_cv, y_test, y_cv = train_test_split(X_test, y_test, test_size=0.5, random_state=42)"
   ]
  },
  {
   "cell_type": "code",
   "execution_count": 158,
   "id": "ae2f955f-9211-4220-87c5-2bd94802ff45",
   "metadata": {},
   "outputs": [
    {
     "name": "stdout",
     "output_type": "stream",
     "text": [
      "(1334, 108, 2048) (1334,)\n",
      "(286, 108, 2048) (286,)\n",
      "(286, 108, 2048) (286,)\n"
     ]
    }
   ],
   "source": [
    "print(X_train.shape, y_train.shape)\n",
    "print(X_test.shape, y_test.shape)\n",
    "print(X_cv.shape, y_cv.shape)"
   ]
  },
  {
   "cell_type": "markdown",
   "id": "b329b358-ac59-459c-83ee-264c93ad21e7",
   "metadata": {},
   "source": [
    "## APPLY LSTM"
   ]
  },
  {
   "cell_type": "code",
   "execution_count": 188,
   "id": "6919f8be-6d25-42cc-b494-0ed661eaef70",
   "metadata": {},
   "outputs": [],
   "source": [
    "# Define the LSTM model\n",
    "model = Sequential()\n",
    "\n",
    "# Add a Masking layer to ignore padding values\n",
    "model.add(Masking(mask_value=0.0, input_shape=(max_length, 2048)))  # Mask value is typically 0\n",
    "\n",
    "# Add the LSTM layer\n",
    "model.add(LSTM(64, return_sequences=False))  # 2048 is the feature vector size\n",
    "\n",
    "# Add Dropout for regularization\n",
    "model.add(Dropout(0.3))\n",
    "\n",
    "# Add Dense layer with sigmoid activation for binary classification\n",
    "model.add(Dense(1, activation='sigmoid'))  # Binary classification (real vs fake)\n",
    "\n",
    "# Compile the model\n",
    "model.compile(optimizer='adam', loss='binary_crossentropy', metrics=['accuracy'])"
   ]
  },
  {
   "cell_type": "code",
   "execution_count": 196,
   "id": "4f79272f-a8d6-427f-8fdd-5481f6a6d65f",
   "metadata": {},
   "outputs": [
    {
     "name": "stdout",
     "output_type": "stream",
     "text": [
      "Epoch 1/20\n",
      "\u001b[1m42/42\u001b[0m \u001b[32m━━━━━━━━━━━━━━━━━━━━\u001b[0m\u001b[37m\u001b[0m \u001b[1m4s\u001b[0m 100ms/step - accuracy: 0.9910 - loss: 0.0457 - val_accuracy: 0.9685 - val_loss: 0.0981\n",
      "Epoch 2/20\n",
      "\u001b[1m42/42\u001b[0m \u001b[32m━━━━━━━━━━━━━━━━━━━━\u001b[0m\u001b[37m\u001b[0m \u001b[1m4s\u001b[0m 103ms/step - accuracy: 0.9876 - loss: 0.0485 - val_accuracy: 0.9650 - val_loss: 0.1065\n",
      "Epoch 3/20\n",
      "\u001b[1m42/42\u001b[0m \u001b[32m━━━━━━━━━━━━━━━━━━━━\u001b[0m\u001b[37m\u001b[0m \u001b[1m4s\u001b[0m 105ms/step - accuracy: 0.9646 - loss: 0.1126 - val_accuracy: 0.9720 - val_loss: 0.0925\n",
      "Epoch 4/20\n",
      "\u001b[1m42/42\u001b[0m \u001b[32m━━━━━━━━━━━━━━━━━━━━\u001b[0m\u001b[37m\u001b[0m \u001b[1m5s\u001b[0m 114ms/step - accuracy: 0.9705 - loss: 0.0761 - val_accuracy: 0.9615 - val_loss: 0.1286\n",
      "Epoch 5/20\n",
      "\u001b[1m42/42\u001b[0m \u001b[32m━━━━━━━━━━━━━━━━━━━━\u001b[0m\u001b[37m\u001b[0m \u001b[1m5s\u001b[0m 121ms/step - accuracy: 0.9840 - loss: 0.0486 - val_accuracy: 0.9336 - val_loss: 0.1969\n",
      "Epoch 6/20\n",
      "\u001b[1m42/42\u001b[0m \u001b[32m━━━━━━━━━━━━━━━━━━━━\u001b[0m\u001b[37m\u001b[0m \u001b[1m5s\u001b[0m 119ms/step - accuracy: 0.9558 - loss: 0.1150 - val_accuracy: 0.9685 - val_loss: 0.0843\n",
      "Epoch 7/20\n",
      "\u001b[1m42/42\u001b[0m \u001b[32m━━━━━━━━━━━━━━━━━━━━\u001b[0m\u001b[37m\u001b[0m \u001b[1m4s\u001b[0m 105ms/step - accuracy: 0.9853 - loss: 0.0559 - val_accuracy: 0.9650 - val_loss: 0.0991\n",
      "Epoch 8/20\n",
      "\u001b[1m42/42\u001b[0m \u001b[32m━━━━━━━━━━━━━━━━━━━━\u001b[0m\u001b[37m\u001b[0m \u001b[1m4s\u001b[0m 94ms/step - accuracy: 0.9905 - loss: 0.0336 - val_accuracy: 0.9685 - val_loss: 0.1053\n",
      "Epoch 9/20\n",
      "\u001b[1m42/42\u001b[0m \u001b[32m━━━━━━━━━━━━━━━━━━━━\u001b[0m\u001b[37m\u001b[0m \u001b[1m4s\u001b[0m 99ms/step - accuracy: 0.9975 - loss: 0.0180 - val_accuracy: 0.9685 - val_loss: 0.0995\n",
      "Epoch 10/20\n",
      "\u001b[1m42/42\u001b[0m \u001b[32m━━━━━━━━━━━━━━━━━━━━\u001b[0m\u001b[37m\u001b[0m \u001b[1m4s\u001b[0m 98ms/step - accuracy: 0.9637 - loss: 0.1031 - val_accuracy: 0.9755 - val_loss: 0.0897\n",
      "Epoch 11/20\n",
      "\u001b[1m42/42\u001b[0m \u001b[32m━━━━━━━━━━━━━━━━━━━━\u001b[0m\u001b[37m\u001b[0m \u001b[1m4s\u001b[0m 96ms/step - accuracy: 0.9994 - loss: 0.0262 - val_accuracy: 0.9510 - val_loss: 0.1476\n",
      "Epoch 12/20\n",
      "\u001b[1m42/42\u001b[0m \u001b[32m━━━━━━━━━━━━━━━━━━━━\u001b[0m\u001b[37m\u001b[0m \u001b[1m4s\u001b[0m 101ms/step - accuracy: 0.9954 - loss: 0.0232 - val_accuracy: 0.9685 - val_loss: 0.1056\n",
      "Epoch 13/20\n",
      "\u001b[1m42/42\u001b[0m \u001b[32m━━━━━━━━━━━━━━━━━━━━\u001b[0m\u001b[37m\u001b[0m \u001b[1m4s\u001b[0m 95ms/step - accuracy: 0.9928 - loss: 0.0227 - val_accuracy: 0.9720 - val_loss: 0.0821\n",
      "Epoch 14/20\n",
      "\u001b[1m42/42\u001b[0m \u001b[32m━━━━━━━━━━━━━━━━━━━━\u001b[0m\u001b[37m\u001b[0m \u001b[1m4s\u001b[0m 96ms/step - accuracy: 0.9998 - loss: 0.0092 - val_accuracy: 0.9720 - val_loss: 0.0981\n",
      "Epoch 15/20\n",
      "\u001b[1m42/42\u001b[0m \u001b[32m━━━━━━━━━━━━━━━━━━━━\u001b[0m\u001b[37m\u001b[0m \u001b[1m4s\u001b[0m 100ms/step - accuracy: 0.9995 - loss: 0.0076 - val_accuracy: 0.9615 - val_loss: 0.0982\n",
      "Epoch 16/20\n",
      "\u001b[1m42/42\u001b[0m \u001b[32m━━━━━━━━━━━━━━━━━━━━\u001b[0m\u001b[37m\u001b[0m \u001b[1m4s\u001b[0m 95ms/step - accuracy: 1.0000 - loss: 0.0061 - val_accuracy: 0.9685 - val_loss: 0.1052\n",
      "Epoch 17/20\n",
      "\u001b[1m42/42\u001b[0m \u001b[32m━━━━━━━━━━━━━━━━━━━━\u001b[0m\u001b[37m\u001b[0m \u001b[1m4s\u001b[0m 96ms/step - accuracy: 0.9989 - loss: 0.0080 - val_accuracy: 0.9685 - val_loss: 0.1140\n",
      "Epoch 18/20\n",
      "\u001b[1m42/42\u001b[0m \u001b[32m━━━━━━━━━━━━━━━━━━━━\u001b[0m\u001b[37m\u001b[0m \u001b[1m4s\u001b[0m 97ms/step - accuracy: 0.9974 - loss: 0.0150 - val_accuracy: 0.9441 - val_loss: 0.2099\n",
      "Epoch 19/20\n",
      "\u001b[1m42/42\u001b[0m \u001b[32m━━━━━━━━━━━━━━━━━━━━\u001b[0m\u001b[37m\u001b[0m \u001b[1m4s\u001b[0m 100ms/step - accuracy: 0.9804 - loss: 0.0463 - val_accuracy: 0.9650 - val_loss: 0.1052\n",
      "Epoch 20/20\n",
      "\u001b[1m42/42\u001b[0m \u001b[32m━━━━━━━━━━━━━━━━━━━━\u001b[0m\u001b[37m\u001b[0m \u001b[1m4s\u001b[0m 102ms/step - accuracy: 0.9944 - loss: 0.0243 - val_accuracy: 0.9685 - val_loss: 0.1075\n"
     ]
    }
   ],
   "source": [
    "# Fit the model to the training data\n",
    "history = model.fit(\n",
    "    X_train,\n",
    "    y_train,\n",
    "    epochs=20, \n",
    "    batch_size=32,\n",
    "    validation_data=(X_cv, y_cv),  # Cross-validation\n",
    "    verbose=1 \n",
    ")"
   ]
  },
  {
   "cell_type": "code",
   "execution_count": 198,
   "id": "ff212115-1f8f-4926-a152-ac2250930301",
   "metadata": {},
   "outputs": [
    {
     "name": "stdout",
     "output_type": "stream",
     "text": [
      "\u001b[1m9/9\u001b[0m \u001b[32m━━━━━━━━━━━━━━━━━━━━\u001b[0m\u001b[37m\u001b[0m \u001b[1m0s\u001b[0m 43ms/step - accuracy: 0.9715 - loss: 0.1247\n",
      "Test Loss: 0.11215542256832123\n",
      "Test Accuracy: 0.9720279574394226\n"
     ]
    }
   ],
   "source": [
    "# Evaluate the model on the test data\n",
    "test_loss, test_accuracy = model.evaluate(X_test, y_test, verbose=1)\n",
    "\n",
    "print(f\"Test Loss: {test_loss}\")\n",
    "print(f\"Test Accuracy: {test_accuracy}\")"
   ]
  },
  {
   "cell_type": "code",
   "execution_count": 200,
   "id": "ffebd396-4f53-4c7b-b62e-2e439224e748",
   "metadata": {},
   "outputs": [
    {
     "name": "stdout",
     "output_type": "stream",
     "text": [
      "\u001b[1m9/9\u001b[0m \u001b[32m━━━━━━━━━━━━━━━━━━━━\u001b[0m\u001b[37m\u001b[0m \u001b[1m0s\u001b[0m 41ms/step\n"
     ]
    },
    {
     "data": {
      "image/png": "[encoded data removed]",
      "text/plain": [
       "<Figure size 640x480 with 2 Axes>"
      ]
     },
     "metadata": {},
     "output_type": "display_data"
    }
   ],
   "source": [
    "\n",
    "# Get predictions from the model\n",
    "y_pred = model.predict(X_test)\n",
    "\n",
    "# Convert predictions to binary (0 or 1)\n",
    "y_pred = (y_pred > 0.5).astype(int)\n",
    "\n",
    "# Compute confusion matrix\n",
    "cm = confusion_matrix(y_test, y_pred)\n",
    "\n",
    "# Plot confusion matrix\n",
    "sns.heatmap(cm, annot=True, fmt='d', cmap='Blues', xticklabels=['Real', 'Fake'], yticklabels=['Real', 'Fake'])\n",
    "plt.ylabel('Actual')\n",
    "plt.xlabel('Predicted')\n",
    "plt.title('Confusion Matrix')\n",
    "plt.show()"
   ]
  },
  {
   "cell_type": "code",
   "execution_count": 202,
   "id": "eb7a7b06-7896-49e1-9529-2dea2bc89aa9",
   "metadata": {},
   "outputs": [],
   "source": [
    "model.save('my_model.keras')"
   ]
  }
 ],
 "metadata": {
  "kernelspec": {
   "display_name": "Python [conda env:base] *",
   "language": "python",
   "name": "conda-base-py"
  },
  "language_info": {
   "codemirror_mode": {
    "name": "ipython",
    "version": 3
   },
   "file_extension": ".py",
   "mimetype": "text/x-python",
   "name": "python",
   "nbconvert_exporter": "python",
   "pygments_lexer": "ipython3",
   "version": "3.9.21"
  }
 },
 "nbformat": 4,
 "nbformat_minor": 5
}

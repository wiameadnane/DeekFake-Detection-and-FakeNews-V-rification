{
 "cells": [
  {
   "cell_type": "code",
   "execution_count": 1,
   "id": "1728720b-1449-409b-bb36-f348af55ae99",
   "metadata": {},
   "outputs": [
    {
     "name": "stdout",
     "output_type": "stream",
     "text": [
      "WARNING:tensorflow:From C:\\Users\\abder\\anaconda3\\anaconda3-1\\Lib\\site-packages\\tf_keras\\src\\losses.py:2976: The name tf.losses.sparse_softmax_cross_entropy is deprecated. Please use tf.compat.v1.losses.sparse_softmax_cross_entropy instead.\n",
      "\n"
     ]
    }
   ],
   "source": [
    "from moviepy import *\n",
    "from moviepy.video.io.VideoFileClip import VideoFileClip\n",
    "import whisper\n",
    "import string\n",
    "from transformers import pipeline\n",
    "from keybert import KeyBERT\n",
    "from sentence_transformers import SentenceTransformer, util\n",
    "\n",
    "import requests"
   ]
  },
  {
   "cell_type": "markdown",
   "id": "6fbe1066-b29c-4b49-a621-59646a5224d1",
   "metadata": {},
   "source": [
    "# Audio and Transcript Extraction"
   ]
  },
  {
   "cell_type": "code",
   "execution_count": 3,
   "id": "beeaaa51-7222-45b0-af0b-4afc6edb9642",
   "metadata": {},
   "outputs": [],
   "source": [
    "def preprocess_video(video_path):\n",
    "    video_clip = VideoFileClip(video_path)\n",
    "\n",
    "    # Extract audio\n",
    "    audio_clip = video_clip.audio\n",
    "\n",
    "    # Save the audio to a file\n",
    "    audio_output_path = \"output_audio.mp3\"  # Specify output file path and format\n",
    "    audio_clip.write_audiofile(audio_output_path)\n",
    "\n",
    "    #Audio to text\n",
    "    model = whisper.load_model(\"base\")\n",
    "    result = model.transcribe(audio_output_path)\n",
    "    paragraph = result[\"text\"]\n",
    "\n",
    "    return paragraph"
   ]
  },
  {
   "cell_type": "markdown",
   "id": "db1efee2-c1e6-4481-8a98-6a0b004fcbd9",
   "metadata": {},
   "source": [
    "# NewsAPI setup and Query"
   ]
  },
  {
   "cell_type": "code",
   "execution_count": 5,
   "id": "e7e9e8ec-8131-4245-95f8-8f47e64a43e9",
   "metadata": {},
   "outputs": [],
   "source": [
    "def get_articles(keywords, max_results=20, sort_by=\"relevance\"):\n",
    "    API_KEY = '69061b87273543a09951e17c0283c5a1'  \n",
    "    BASE_URL = 'https://newsapi.org/v2/everything'\n",
    "\n",
    "    articles = []\n",
    "    page = 1\n",
    "    query = ' OR '.join(keywords)  # Flexible matching: any keyword can appear\n",
    "\n",
    "    while len(articles) < max_results:\n",
    "        url = f\"{BASE_URL}?q={query}&pageSize={min(100, max_results - len(articles))}&page={page}&sortBy={sort_by}&apiKey={API_KEY}\"\n",
    "        response = requests.get(url)\n",
    "\n",
    "        if response.status_code == 200:\n",
    "            data = response.json()\n",
    "            articles.extend(data.get(\"articles\", []))\n",
    "            if len(data.get(\"articles\", [])) < 100:  # No more articles on next pages\n",
    "                break\n",
    "            page += 1\n",
    "        else:\n",
    "            print(f\"Error fetching articles: {response.status_code} - {response.text}\")\n",
    "            break\n",
    "\n",
    "    return articles[:max_results] if articles else None"
   ]
  },
  {
   "cell_type": "markdown",
   "id": "9d5adf62-04d0-438e-94f2-ce591eefff29",
   "metadata": {},
   "source": [
    "# Comparing Similarities"
   ]
  },
  {
   "cell_type": "code",
   "execution_count": 7,
   "id": "f771380f-d67c-4f40-8bb3-0ca12bb217d7",
   "metadata": {},
   "outputs": [],
   "source": [
    "def compare_similarities(text_embedding, articles_embeddings):\n",
    "    # List to store cosine similarities\n",
    "    similarities = []\n",
    "    for article_embedding in articles_embeddings:\n",
    "        similarity = util.cos_sim(text_embedding, article_embedding).item() \n",
    "        similarities.append(similarity)\n",
    "\n",
    "    # Sort articles by similarity (highest to lowest)\n",
    "    sorted_indices = sorted(range(len(similarities)), key=lambda i: similarities[i], reverse=True)\n",
    "    \n",
    "    return sorted_indices[:5]"
   ]
  },
  {
   "cell_type": "markdown",
   "id": "5fcf8651-7796-45d4-b4b6-be91b3335894",
   "metadata": {},
   "source": [
    "# News Verification"
   ]
  },
  {
   "cell_type": "code",
   "execution_count": 9,
   "id": "f69f02ff-2f7b-45e9-9d43-eabefe25467a",
   "metadata": {},
   "outputs": [],
   "source": [
    "def fake_news_detection(video_path):\n",
    "    #get the transcribed text\n",
    "    paragraph = preprocess_video(video_path)\n",
    "    print(paragraph)\n",
    "\n",
    "    #getting keywords\n",
    "    model = KeyBERT()\n",
    "    keywords = model.extract_keywords(paragraph, stop_words=\"english\", top_n=5)\n",
    "    keywords_updated = [keyword[0] for keyword in keywords]\n",
    "    print(\"Keywords:\", keywords_updated)\n",
    "    \n",
    "    #get Articles NewsAPI with keywords\n",
    "    articles = get_articles(keywords_updated, max_results=50)\n",
    "    if articles:\n",
    "        for article in articles:\n",
    "            print(\"Title:\", article[\"title\"])\n",
    "            print(\"Source:\", article[\"source\"][\"name\"])\n",
    "            print(\"URL:\", article[\"url\"])\n",
    "            print(\"=\" * 80)\n",
    "    else:\n",
    "        print(\"No articles found.\")\n",
    "        return None\n",
    "\n",
    "    #summary of text\n",
    "    summarizer = pipeline(\"summarization\", model=\"facebook/bart-large-cnn\")\n",
    "    summary = summarizer(paragraph, max_length=100, min_length=50, do_sample=False)\n",
    "    summarized_text = summary[0]['summary_text']\n",
    "\n",
    "    #Semantic Embedding\n",
    "    model = SentenceTransformer('all-MiniLM-L6-v2')     # Load the Sentence-BERT model\n",
    "    text_embedding = model.encode(summarized_text, convert_to_tensor=True)   # Generate embedding for the input text\n",
    "\n",
    "    # Generate embeddings for each article\n",
    "    article_embeddings = []\n",
    "    for article in articles:\n",
    "        content_to_embed = f\"{article['title']} {article['description']} {article.get('content', '')}\" # Combine title, description, and content\n",
    "        embedding = model.encode(content_to_embed, convert_to_tensor=True)                             # Generate embedding\n",
    "        article_embeddings.append(embedding)     \n",
    "\n",
    "    #get the most similar articles \n",
    "    best_five_articles = compare_similarities(text_embedding, article_embeddings)\n",
    "\n",
    "    print(\"the most similar articles describing the content of your video are : \")\n",
    "    for idx in best_five_articles:  # Display top 5 most similar articles\n",
    "        summary = summarizer(articles[idx]['content'],max_length = 100, min_length=100, do_sample=False)\n",
    "        summarized_article = summary[0]['summary_text']\n",
    "        \n",
    "        print(f\"Title: {articles[idx]['title']}\")\n",
    "        #print(f\"Similarity Score: {similarities[idx]*100:.2f}%\")\n",
    "        print(f\"Summarized Text: {summarized_article}\")\n",
    "        print(f\"URL: {articles[idx]['url']}\")\n",
    "        print(\"=\" * 80)\n",
    "\n",
    "    return best_five_articles"
   ]
  },
  {
   "cell_type": "code",
   "execution_count": 10,
   "id": "47ad7a94-600c-4be1-9db6-ba3f9ec01942",
   "metadata": {},
   "outputs": [
    {
     "name": "stdout",
     "output_type": "stream",
     "text": [
      "MoviePy - Writing audio in output_audio.mp3\n"
     ]
    },
    {
     "name": "stderr",
     "output_type": "stream",
     "text": [
      "                                                                                                                       \r"
     ]
    },
    {
     "name": "stdout",
     "output_type": "stream",
     "text": [
      "MoviePy - Done.\n",
      " Now, Metafounder and CEO Mark Zuckerberg stunned many with his announcement that he was pulling the plug on fact checking at Facebook and Instagram in the United States citing concerns about political bias. He is more.\n",
      "Keywords: ['zuckerberg', 'metafounder', 'facebook', 'ceo', 'instagram']\n",
      "Title: Dana White is joining Meta’s board of directors\n",
      "Source: The Verge\n",
      "URL: https://www.theverge.com/2025/1/6/24337670/meta-board-of-directors-dana-white-ufc\n",
      "================================================================================\n",
      "Title: Zuckerberg says he’s moving Meta moderators to Texas because California seems too ‘biased’\n",
      "Source: The Verge\n",
      "URL: https://www.theverge.com/2025/1/7/24338305/meta-mark-zuckerberg-moving-meta-moderators-texas-california-bias\n",
      "================================================================================\n",
      "Title: Meta is leaving its users to wade through hate and disinformation\n",
      "Source: The Verge\n",
      "URL: https://www.theverge.com/2025/1/7/24338127/meta-end-fact-checking-misinformation-zuckerberg\n",
      "================================================================================\n",
      "Title: Facebook and Instagram Ads Push Gun Silencers Disguised as Car Parts\n",
      "Source: Wired\n",
      "URL: https://www.wired.com/story/fuel-filter-gun-silencer-ads-facebook-instagram/\n",
      "================================================================================\n",
      "Title: Meta Ditches Fact-Checkers in Favor of X-Style Community Notes\n",
      "Source: Wired\n",
      "URL: https://www.wired.com/story/meta-ditches-fact-checkers-in-favor-of-x-style-community-notes/\n",
      "================================================================================\n",
      "Title: X, Facebook, Instagram, and YouTube sign EU pledge to tackle hate speech\n",
      "Source: The Verge\n",
      "URL: https://www.theverge.com/2025/1/20/24347876/x-facebook-instagram-youtube-eu-hate-speech-dsa-code\n",
      "================================================================================\n",
      "Title: A Lot of People Are Searching for How to Delete Facebook and Instagram, and We Would Like Their Clicks\n",
      "Source: Gizmodo.com\n",
      "URL: https://gizmodo.com/a-lot-of-people-are-searching-for-how-to-delete-facebook-and-instagram-and-we-would-like-their-clicks-2000548127\n",
      "================================================================================\n",
      "Title: Mastodon’s CEO and creator is handing control to a new nonprofit organization\n",
      "Source: The Verge\n",
      "URL: https://www.theverge.com/2025/1/13/24342603/mastodon-non-profit-ownership-ceo-eugen-rochko\n",
      "================================================================================\n",
      "Title: Mark Zuckerberg and Sheryl Sandberg want you to know they're still friends and definitely not mad at each other\n",
      "Source: Yahoo Entertainment\n",
      "URL: https://consent.yahoo.com/v2/collectConsent?sessionId=1_cc-session_d3949c7f-8ac2-423b-a9ff-8511c87114fc\n",
      "================================================================================\n",
      "Title: Meta Ends Fact-Checking on Facebook, Instagram in Free-Speech Pitch\n",
      "Source: Slashdot.org\n",
      "URL: https://tech.slashdot.org/story/25/01/07/189242/meta-ends-fact-checking-on-facebook-instagram-in-free-speech-pitch\n",
      "================================================================================\n",
      "Title: Meta Cracks Down on Internal Dissent Against Appointment of UFC’s Dana White to Board\n",
      "Source: Gizmodo.com\n",
      "URL: https://gizmodo.com/meta-cracks-down-on-internal-dissent-against-appointment-of-ufcs-dana-white-to-board-2000547073\n",
      "================================================================================\n",
      "Title: Nick Clegg leaves Meta ahead of Trump's return as US president\n",
      "Source: BBC News\n",
      "URL: https://www.bbc.com/news/articles/cgrw785585wo\n",
      "================================================================================\n",
      "Title: Advertisers Might Not Like Meta’s ‘Free Speech’ Overhaul, but Does It Matter?\n",
      "Source: Gizmodo.com\n",
      "URL: https://gizmodo.com/advertisers-might-not-like-metas-free-speech-overhaul-but-does-it-matter-2000549388\n",
      "================================================================================\n",
      "Title: Meta AI rolls out preference-based answers using your shared data\n",
      "Source: Android Central\n",
      "URL: https://www.androidcentral.com/apps-software/meta-ai-preference-based-answers-feature-rollout\n",
      "================================================================================\n",
      "Title: Meta’s AI Profiles Are Already Polluting Instagram and Facebook With Slop\n",
      "Source: Gizmodo.com\n",
      "URL: https://gizmodo.com/metas-ai-profiles-are-already-polluting-instagram-and-facebook-with-slop-2000545433\n",
      "================================================================================\n",
      "Title: Trump says Mark Zuckerberg is 'probably' responding to his previous threats by changing Meta's direction\n",
      "Source: Business Insider\n",
      "URL: https://www.businessinsider.com/trump-mark-zuckerberg-threats-meta-political-content-changes-2025-1\n",
      "================================================================================\n",
      "Title: ‘Most Wanted CEO’ Playing Cards Get User Banned From Most Platforms\n",
      "Source: Gizmodo.com\n",
      "URL: https://gizmodo.com/most-wanted-ceo-playing-cards-get-user-banned-from-most-platforms-2000550574\n",
      "================================================================================\n",
      "Title: Mark Zuckerberg's Meta is moving moderators out of California to combat concerns about bias and censorship\n",
      "Source: Business Insider\n",
      "URL: https://www.businessinsider.com/meta-zuckerberg-content-moderation-california-texas-censorship-bias-musk-x-2025-1\n",
      "================================================================================\n",
      "Title: Mark Zuckerberg sported a $900,000 piece of wrist candy as he announced the end of fact-checking on Meta\n",
      "Source: Business Insider\n",
      "URL: https://www.businessinsider.com/meta-mark-zuckerberg-wore-900000-watch-end-fact-checking-2025-1\n",
      "================================================================================\n",
      "Title: Republican Senator Says Mark Zuckerberg Challenged Him to a Cage Fight\n",
      "Source: Gizmodo.com\n",
      "URL: https://gizmodo.com/republican-senator-says-mark-zuckerberg-invited-him-to-have-a-cage-fight-2000548313\n",
      "================================================================================\n",
      "Title: Mark Zuckerberg says Meta will ditch third-party fact-checkers for community notes\n",
      "Source: Business Insider\n",
      "URL: https://www.businessinsider.com/meta-community-notes-third-party-fact-checkers-2025-1\n",
      "================================================================================\n",
      "Title: Meta sigue los pasos de X y anuncia un cambio radical en la moderación de contenido\n",
      "Source: Hipertextual\n",
      "URL: http://hipertextual.com/2025/01/meta-cambio-moderacion-contenido-facebook-instagram\n",
      "================================================================================\n",
      "Title: Meta says it's not automatically making users' accounts follow Trump on Instagram and Facebook\n",
      "Source: Business Insider\n",
      "URL: https://www.businessinsider.com/meta-says-its-not-automatically-making-users-accounts-follow-trump-2025-1\n",
      "================================================================================\n",
      "Title: Mark Zuckerberg says he wants more 'masculine energy' at Meta. So, why don't more men use Facebook?\n",
      "Source: Business Insider\n",
      "URL: https://www.businessinsider.com/mark-zuckerberg-masculine-energy-meta-facebook-feminine-2025-1\n",
      "================================================================================\n",
      "Title: Meta Now Lets Users Say Gay and Trans People Have 'Mental Illness'\n",
      "Source: Wired\n",
      "URL: https://www.wired.com/story/meta-immigration-gender-policies-change/\n",
      "================================================================================\n",
      "Title: The Zuckermoon is over\n",
      "Source: Business Insider\n",
      "URL: https://www.businessinsider.com/mark-zuckerberg-honeymoon-period-over-trump-inauguration-2025-1\n",
      "================================================================================\n",
      "Title: Meta Follows Elon Musk’s Lead, Moves Staffers to Billionaire-Friendly Texas\n",
      "Source: Wired\n",
      "URL: https://www.wired.com/story/meta-elon-musks-lead-trust-safety-billionaire-friendly-texas/\n",
      "================================================================================\n",
      "Title: Billionaires got prime seats to Trump's inauguration — ahead of his own cabinet and lawmakers\n",
      "Source: Business Insider\n",
      "URL: https://www.businessinsider.com/trump-inauguration-ceo-guests-bezos-zuckerberg-musk-2025-1\n",
      "================================================================================\n",
      "Title: We're witnessing a new Mark Zuckerberg: Welcome to Zuck 3.0.\n",
      "Source: Business Insider\n",
      "URL: https://www.businessinsider.com/mark-zuckerberg-new-identity-trump-elon-musk-fact-check-dei-2025-1\n",
      "================================================================================\n",
      "Title: The Internet’s Future Is Looking Bleaker By the Day\n",
      "Source: Wired\n",
      "URL: https://www.wired.com/story/the-internets-future-is-looking-bleaker-by-the-day/\n",
      "================================================================================\n",
      "Title: Meta cutting its fact-checkers is a big deal. Here's why.\n",
      "Source: Business Insider\n",
      "URL: https://www.businessinsider.com/meta-cut-fact-checkers-mark-zuckerberg-donald-trump-impact-2025-1\n",
      "================================================================================\n",
      "Title: Mark Zuckerberg unveils his latest persona: Elon Musk\n",
      "Source: Business Insider\n",
      "URL: https://www.businessinsider.com/mark-zuckerberg-copying-elon-musk-content-moderation-trump-efficiency-2025-1\n",
      "================================================================================\n",
      "Title: UFC boss to join board of Facebook owner Meta\n",
      "Source: BBC News\n",
      "URL: https://www.bbc.com/news/articles/c627p8leww1o?xtor=AL-72-%5Bpartner%5D-%5Byahoo.north.america%5D-%5Bheadline%5D-%5Bnews%5D-%5Bbizdev%5D-%5Bisapi%5D\n",
      "================================================================================\n",
      "Title: Mark Zuckerberg and Jensen Huang jointly became $28 billion richer in 3 days as AI buzz reignites\n",
      "Source: Business Insider\n",
      "URL: https://www.businessinsider.com/mark-zuckerberg-jensen-huang-meta-nvidia-stock-wealth-ai-billionaires-2025-1\n",
      "================================================================================\n",
      "Title: What Zuckerberg Risks by Following Musk’s Lead\n",
      "Source: Time\n",
      "URL: https://time.com/7205821/what-zuckerberg-risks-by-following-musks-lead/\n",
      "================================================================================\n",
      "Title: Meta makes major move back to free speech and ends 3rd-party fact-checking program\n",
      "Source: Fox News\n",
      "URL: https://www.foxnews.com/tech/meta-makes-major-move-back-free-speech-ends-third-party-fact-checking-program\n",
      "================================================================================\n",
      "Title: Internal Meta memo tells managers how performance-based job cuts will work\n",
      "Source: Business Insider\n",
      "URL: https://www.businessinsider.com/meta-tells-managers-how-performance-based-job-cuts-will-work-2025-1\n",
      "================================================================================\n",
      "Title: Sonos continues to clean house with departure of chief commercial officer\n",
      "Source: The Verge\n",
      "URL: https://www.theverge.com/2025/1/15/24344430/sonos-cco-deirdre-findlay-leaving\n",
      "================================================================================\n",
      "Title: Mark Zuckerberg says Meta's 'community notes' are inspired by Elon Musk's X. Here's how they work — and how they don't.\n",
      "Source: Business Insider\n",
      "URL: https://www.businessinsider.com/meta-community-notes-twitter-zuckerberg-musk-how-do-they-work-2025-1\n",
      "================================================================================\n",
      "Title: The Spirit of Facebook Is Moving From California to Texas\n",
      "Source: Gizmodo.com\n",
      "URL: https://gizmodo.com/the-spirit-of-facebook-is-moving-from-california-to-texas-2000546962\n",
      "================================================================================\n",
      "Title: Instagram anuncia una copia descarada de CapCut\n",
      "Source: Hipertextual\n",
      "URL: http://hipertextual.com/2025/01/instagram-anuncia-una-copia-descarada-de-capcut\n",
      "================================================================================\n",
      "Title: Then & now: How Elon Musk, Mark Zuckerberg, Jeff Bezos, and other tech leaders are treating Trump differently this time around\n",
      "Source: Business Insider\n",
      "URL: https://www.businessinsider.com/trump-musk-zuckerberg-ceos-relationship-has-changed-2025-1\n",
      "================================================================================\n"
     ]
    },
    {
     "name": "stderr",
     "output_type": "stream",
     "text": [
      "Device set to use cpu\n",
      "Your max_length is set to 100, but your input_length is only 45. Since this is a summarization task, where outputs shorter than the input are typically wanted, you might consider decreasing max_length manually, e.g. summarizer('...', max_length=22)\n",
      "Your max_length is set to 100, but your input_length is only 46. Since this is a summarization task, where outputs shorter than the input are typically wanted, you might consider decreasing max_length manually, e.g. summarizer('...', max_length=23)\n"
     ]
    },
    {
     "name": "stdout",
     "output_type": "stream",
     "text": [
      "the most similar articles describing the content of your video are : \n"
     ]
    },
    {
     "name": "stderr",
     "output_type": "stream",
     "text": [
      "Your max_length is set to 100, but your input_length is only 50. Since this is a summarization task, where outputs shorter than the input are typically wanted, you might consider decreasing max_length manually, e.g. summarizer('...', max_length=25)\n"
     ]
    },
    {
     "name": "stdout",
     "output_type": "stream",
     "text": [
      "Title: Meta Ends Fact-Checking on Facebook, Instagram in Free-Speech Pitch\n",
      "Summarized Text: News organizations are required to report news, and in many cases they're publicly funded and not allowed to run advertisements that aren't PSA (public service announcements.) US \"news\" organization… is not a news organization, it's a public service organization. US news organizations are not news organizations, they're public service organizations. US \" news\" organization is not news, it is public service advertising. US News organizations are public service announcements, they are news organizations. U.S.\n",
      "URL: https://tech.slashdot.org/story/25/01/07/189242/meta-ends-fact-checking-on-facebook-instagram-in-free-speech-pitch\n",
      "================================================================================\n"
     ]
    },
    {
     "name": "stderr",
     "output_type": "stream",
     "text": [
      "Your max_length is set to 100, but your input_length is only 53. Since this is a summarization task, where outputs shorter than the input are typically wanted, you might consider decreasing max_length manually, e.g. summarizer('...', max_length=26)\n"
     ]
    },
    {
     "name": "stdout",
     "output_type": "stream",
     "text": [
      "Title: What Zuckerberg Risks by Following Musk’s Lead\n",
      "Summarized Text:  Meta CEO Mark Zuckerberg announced that the social media behemoth will end its third party fact-checking program in the U.S. Instead, the company will adopt a crowd-sourced community notes program. The announcement was made on Tuesday in a blog post on the company's Facebook page. The post said that the company would end its fact-checkers in the United States. It also said that it would adopt a community-sourcing program in place of the fact-checks.\n",
      "URL: https://time.com/7205821/what-zuckerberg-risks-by-following-musks-lead/\n",
      "================================================================================\n"
     ]
    },
    {
     "name": "stderr",
     "output_type": "stream",
     "text": [
      "Your max_length is set to 100, but your input_length is only 50. Since this is a summarization task, where outputs shorter than the input are typically wanted, you might consider decreasing max_length manually, e.g. summarizer('...', max_length=25)\n"
     ]
    },
    {
     "name": "stdout",
     "output_type": "stream",
     "text": [
      "Title: We're witnessing a new Mark Zuckerberg: Welcome to Zuck 3.0.\n",
      "Summarized Text:  Meta announced big changes to kick off the new year, including ending third-party fact-checking and DEI programs. Meta CEO Mark Zuckerberg is entering a new era. Meta is a social networking site that lets users share photos, videos, and other content with friends and family. It was founded in 2004 by Mark Zuckerberg and his wife, Sheryl Sandberg. The company is now run by Zuckerberg's son, Mark Zuckerberg Jr., and his son-in-law, Mark\n",
      "URL: https://www.businessinsider.com/mark-zuckerberg-new-identity-trump-elon-musk-fact-check-dei-2025-1\n",
      "================================================================================\n"
     ]
    },
    {
     "name": "stderr",
     "output_type": "stream",
     "text": [
      "Your max_length is set to 100, but your input_length is only 47. Since this is a summarization task, where outputs shorter than the input are typically wanted, you might consider decreasing max_length manually, e.g. summarizer('...', max_length=23)\n"
     ]
    },
    {
     "name": "stdout",
     "output_type": "stream",
     "text": [
      "Title: Meta cutting its fact-checkers is a big deal. Here's why.\n",
      "Summarized Text: Mark Zuckerberg is the CEO of Facebook. He is also the founder of the social media giant Instagram. Zuckerberg is also a co-founder of Oculus VR, a virtual reality headset company. He also has a stake in Facebook's Oculus VR headset company, which he co-founded with Oculus VR founder Sheryl Sandberg. Zuckerberg also co-owns Oculus VR with his wife, Marissa Mayer, and his brother, Eduardo Sotomayor. The company is valued at $\n",
      "URL: https://www.businessinsider.com/meta-cut-fact-checkers-mark-zuckerberg-donald-trump-impact-2025-1\n",
      "================================================================================\n",
      "Title: A Lot of People Are Searching for How to Delete Facebook and Instagram, and We Would Like Their Clicks\n",
      "Summarized Text: Mark Zuckerberg announced that Meta platforms including Facebook, Instagram, and Threads will ditch professional fa… in the wake of Mark Zuckerberg’s announcement that Meta Platforms like Facebook and Instagram would ditch professional journalists. Mark Zuckerberg said the move would be in response to the rise of fake news on social media sites like Facebook, Twitter, and Instagram. The move was announced in a blog post by Mark Zuckerberg on Wednesday. Zuckerberg said it was a response to a growing trend for fake news\n",
      "URL: https://gizmodo.com/a-lot-of-people-are-searching-for-how-to-delete-facebook-and-instagram-and-we-would-like-their-clicks-2000548127\n",
      "================================================================================\n"
     ]
    },
    {
     "data": {
      "text/plain": [
       "[9, 34, 28, 30, 6]"
      ]
     },
     "execution_count": 10,
     "metadata": {},
     "output_type": "execute_result"
    }
   ],
   "source": [
    "fake_news_detection(r\"C:\\Users\\wiame\\Documents\\RECONNAISSANCE DES FORMES\\PROJET\\Fake News Verification\\video_of_real_news.mp4\")"
   ]
  }
 ],
 "metadata": {
  "kernelspec": {
   "display_name": "Python [conda env:base] *",
   "language": "python",
   "name": "conda-base-py"
  },
  "language_info": {
   "codemirror_mode": {
    "name": "ipython",
    "version": 3
   },
   "file_extension": ".py",
   "mimetype": "text/x-python",
   "name": "python",
   "nbconvert_exporter": "python",
   "pygments_lexer": "ipython3",
   "version": "3.9.21"
  }
 },
 "nbformat": 4,
 "nbformat_minor": 5
}
